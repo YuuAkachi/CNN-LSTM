{
 "cells": [
  {
   "cell_type": "markdown",
   "metadata": {},
   "source": [
    "# TRANSFORMERS_PREDICTION\n",
    "\n",
    "Yuu Ricardo Akachi Tanaka\n",
    "A01351969"
   ]
  },
  {
   "cell_type": "markdown",
   "metadata": {
    "id": "XS-wWjsfWlec"
   },
   "source": [
    "# Time series forecasting with Transformer model\n",
    "\n",
    "Once again, we'll work with the weather time series dataset collected at the weather station of the Max Planck Institute for Biogeochemistry in Jena, Germany.\n",
    "\n",
    "Keep in mind that dataset includes 14 different variables such as air temperature, air pressure, humidity, wind direction and others, recorded every 10 minutes over several years. While the original data go back to 2003, our focus here is on the data from 2009 to 2016. Our goal is to construct a model that takes recent historical data (a few days' worth of data points) as input and predicts the air temperature 24 hours into the future.\n",
    "\n",
    "You can obtain and decompress the data using the following instructions:"
   ]
  },
  {
   "cell_type": "code",
   "execution_count": 2,
   "metadata": {
    "colab": {
     "base_uri": "https://localhost:8080/"
    },
    "id": "5BwJA25KWlec",
    "outputId": "1a6df6d5-930e-405e-d651-26eba2469d06"
   },
   "outputs": [
    {
     "name": "stderr",
     "output_type": "stream",
     "text": [
      "--2025-04-18 04:12:48--  https://s3.amazonaws.com/keras-datasets/jena_climate_2009_2016.csv.zip\n",
      "Resolving s3.amazonaws.com (s3.amazonaws.com)... 52.217.254.8, 52.217.103.14, 52.216.212.160, ...\n",
      "Connecting to s3.amazonaws.com (s3.amazonaws.com)|52.217.254.8|:443... connected.\n",
      "HTTP request sent, awaiting response... 200 OK\n",
      "Length: 13565642 (13M) [application/zip]\n",
      "Saving to: ‘jena_climate_2009_2016.csv.zip’\n",
      "\n",
      "     0K .......... .......... .......... .......... ..........  0%  858K 15s\n",
      "    50K .......... .......... .......... .......... ..........  0%  905K 15s\n",
      "   100K .......... .......... .......... .......... ..........  1% 52.4M 10s\n",
      "   150K .......... .......... .......... .......... ..........  1%  909K 11s\n",
      "   200K .......... .......... .......... .......... ..........  1% 99.0M 9s\n",
      "   250K .......... .......... .......... .......... ..........  2%  100M 7s\n",
      "   300K .......... .......... .......... .......... ..........  2%  108M 6s\n",
      "   350K .......... .......... .......... .......... ..........  3%  937K 7s\n",
      "   400K .......... .......... .......... .......... ..........  3% 8.89M 7s\n",
      "   450K .......... .......... .......... .......... ..........  3%  154M 6s\n",
      "   500K .......... .......... .......... .......... ..........  4%  128M 5s\n",
      "   550K .......... .......... .......... .......... ..........  4% 93.4M 5s\n",
      "   600K .......... .......... .......... .......... ..........  4%  123M 4s\n",
      "   650K .......... .......... .......... .......... ..........  5%  106M 4s\n",
      "   700K .......... .......... .......... .......... ..........  5%  128M 4s\n",
      "   750K .......... .......... .......... .......... ..........  6% 1.00M 4s\n",
      "   800K .......... .......... .......... .......... ..........  6% 16.7M 4s\n",
      "   850K .......... .......... .......... .......... ..........  6%  148M 4s\n",
      "   900K .......... .......... .......... .......... ..........  7%  151M 4s\n",
      "   950K .......... .......... .......... .......... ..........  7%  114M 3s\n",
      "  1000K .......... .......... .......... .......... ..........  7% 74.7M 3s\n",
      "  1050K .......... .......... .......... .......... ..........  8% 79.6M 3s\n",
      "  1100K .......... .......... .......... .......... ..........  8% 69.2M 3s\n",
      "  1150K .......... .......... .......... .......... ..........  9% 41.5M 3s\n",
      "  1200K .......... .......... .......... .......... ..........  9% 56.9M 3s\n",
      "  1250K .......... .......... .......... .......... ..........  9%  159M 3s\n",
      "  1300K .......... .......... .......... .......... .......... 10%  173M 3s\n",
      "  1350K .......... .......... .......... .......... .......... 10% 93.9M 2s\n",
      "  1400K .......... .......... .......... .......... .......... 10% 1.06M 3s\n",
      "  1450K .......... .......... .......... .......... .......... 11% 70.9M 3s\n",
      "  1500K .......... .......... .......... .......... .......... 11% 80.8M 3s\n",
      "  1550K .......... .......... .......... .......... .......... 12%  114M 2s\n",
      "  1600K .......... .......... .......... .......... .......... 12%  131M 2s\n",
      "  1650K .......... .......... .......... .......... .......... 12%  150M 2s\n",
      "  1700K .......... .......... .......... .......... .......... 13% 94.3M 2s\n",
      "  1750K .......... .......... .......... .......... .......... 13% 57.3M 2s\n",
      "  1800K .......... .......... .......... .......... .......... 13% 97.4M 2s\n",
      "  1850K .......... .......... .......... .......... .......... 14% 77.1M 2s\n",
      "  1900K .......... .......... .......... .......... .......... 14%  120M 2s\n",
      "  1950K .......... .......... .......... .......... .......... 15%  114M 2s\n",
      "  2000K .......... .......... .......... .......... .......... 15%  128M 2s\n",
      "  2050K .......... .......... .......... .......... .......... 15%  136M 2s\n",
      "  2100K .......... .......... .......... .......... .......... 16%  126M 2s\n",
      "  2150K .......... .......... .......... .......... .......... 16%  145M 2s\n",
      "  2200K .......... .......... .......... .......... .......... 16%  174M 2s\n",
      "  2250K .......... .......... .......... .......... .......... 17%  144M 2s\n",
      "  2300K .......... .......... .......... .......... .......... 17%  168M 2s\n",
      "  2350K .......... .......... .......... .......... .......... 18%  143M 2s\n",
      "  2400K .......... .......... .......... .......... .......... 18% 33.2M 2s\n",
      "  2450K .......... .......... .......... .......... .......... 18% 57.8M 1s\n",
      "  2500K .......... .......... .......... .......... .......... 19%  141M 1s\n",
      "  2550K .......... .......... .......... .......... .......... 19%  158M 1s\n",
      "  2600K .......... .......... .......... .......... .......... 20%  155M 1s\n",
      "  2650K .......... .......... .......... .......... .......... 20%  148M 1s\n",
      "  2700K .......... .......... .......... .......... .......... 20%  145M 1s\n",
      "  2750K .......... .......... .......... .......... .......... 21%  132M 1s\n",
      "  2800K .......... .......... .......... .......... .......... 21%  148M 1s\n",
      "  2850K .......... .......... .......... .......... .......... 21%  158M 1s\n",
      "  2900K .......... .......... .......... .......... .......... 22% 1.15M 1s\n",
      "  2950K .......... .......... .......... .......... .......... 22%  109M 1s\n",
      "  3000K .......... .......... .......... .......... .......... 23%  116M 1s\n",
      "  3050K .......... .......... .......... .......... .......... 23% 94.2M 1s\n",
      "  3100K .......... .......... .......... .......... .......... 23%  117M 1s\n",
      "  3150K .......... .......... .......... .......... .......... 24%  128M 1s\n",
      "  3200K .......... .......... .......... .......... .......... 24% 41.1M 1s\n",
      "  3250K .......... .......... .......... .......... .......... 24%  104M 1s\n",
      "  3300K .......... .......... .......... .......... .......... 25% 74.9M 1s\n",
      "  3350K .......... .......... .......... .......... .......... 25% 95.0M 1s\n",
      "  3400K .......... .......... .......... .......... .......... 26%  155M 1s\n",
      "  3450K .......... .......... .......... .......... .......... 26% 31.3M 1s\n",
      "  3500K .......... .......... .......... .......... .......... 26%  140M 1s\n",
      "  3550K .......... .......... .......... .......... .......... 27%  164M 1s\n",
      "  3600K .......... .......... .......... .......... .......... 27%  135M 1s\n",
      "  3650K .......... .......... .......... .......... .......... 27%  157M 1s\n",
      "  3700K .......... .......... .......... .......... .......... 28%  104M 1s\n",
      "  3750K .......... .......... .......... .......... .......... 28%  227M 1s\n",
      "  3800K .......... .......... .......... .......... .......... 29%  196M 1s\n",
      "  3850K .......... .......... .......... .......... .......... 29%  154M 1s\n",
      "  3900K .......... .......... .......... .......... .......... 29%  176M 1s\n",
      "  3950K .......... .......... .......... .......... .......... 30%  182M 1s\n",
      "  4000K .......... .......... .......... .......... .......... 30%  195M 1s\n",
      "  4050K .......... .......... .......... .......... .......... 30%  172M 1s\n",
      "  4100K .......... .......... .......... .......... .......... 31%  184M 1s\n",
      "  4150K .......... .......... .......... .......... .......... 31%  173M 1s\n",
      "  4200K .......... .......... .......... .......... .......... 32%  115M 1s\n",
      "  4250K .......... .......... .......... .......... .......... 32% 98.5M 1s\n",
      "  4300K .......... .......... .......... .......... .......... 32%  126M 1s\n",
      "  4350K .......... .......... .......... .......... .......... 33%  156M 1s\n",
      "  4400K .......... .......... .......... .......... .......... 33%  116M 1s\n",
      "  4450K .......... .......... .......... .......... .......... 33%  179M 1s\n",
      "  4500K .......... .......... .......... .......... .......... 34%  110M 1s\n",
      "  4550K .......... .......... .......... .......... .......... 34%  104M 1s\n",
      "  4600K .......... .......... .......... .......... .......... 35% 93.4M 1s\n",
      "  4650K .......... .......... .......... .......... .......... 35%  129M 1s\n",
      "  4700K .......... .......... .......... .......... .......... 35%  150M 1s\n",
      "  4750K .......... .......... .......... .......... .......... 36%  162M 1s\n",
      "  4800K .......... .......... .......... .......... .......... 36%  175M 1s\n",
      "  4850K .......... .......... .......... .......... .......... 36%  170M 1s\n",
      "  4900K .......... .......... .......... .......... .......... 37%  166M 1s\n",
      "  4950K .......... .......... .......... .......... .......... 37%  184M 1s\n",
      "  5000K .......... .......... .......... .......... .......... 38%  198M 1s\n",
      "  5050K .......... .......... .......... .......... .......... 38% 39.1M 1s\n",
      "  5100K .......... .......... .......... .......... .......... 38%  188M 1s\n",
      "  5150K .......... .......... .......... .......... .......... 39%  197M 1s\n",
      "  5200K .......... .......... .......... .......... .......... 39%  183M 1s\n",
      "  5250K .......... .......... .......... .......... .......... 40%  167M 1s\n",
      "  5300K .......... .......... .......... .......... .......... 40%  176M 1s\n",
      "  5350K .......... .......... .......... .......... .......... 40%  193M 1s\n",
      "  5400K .......... .......... .......... .......... .......... 41%  157M 1s\n",
      "  5450K .......... .......... .......... .......... .......... 41%  149M 1s\n",
      "  5500K .......... .......... .......... .......... .......... 41%  198M 1s\n",
      "  5550K .......... .......... .......... .......... .......... 42%  198M 1s\n",
      "  5600K .......... .......... .......... .......... .......... 42%  199M 1s\n",
      "  5650K .......... .......... .......... .......... .......... 43%  160M 1s\n",
      "  5700K .......... .......... .......... .......... .......... 43%  213M 1s\n",
      "  5750K .......... .......... .......... .......... .......... 43%  212M 1s\n",
      "  5800K .......... .......... .......... .......... .......... 44%  232M 1s\n",
      "  5850K .......... .......... .......... .......... .......... 44% 1.39M 1s\n",
      "  5900K .......... .......... .......... .......... .......... 44%  113M 1s\n",
      "  5950K .......... .......... .......... .......... .......... 45% 70.3M 1s\n",
      "  6000K .......... .......... .......... .......... .......... 45%  122M 1s\n",
      "  6050K .......... .......... .......... .......... .......... 46%  163M 1s\n",
      "  6100K .......... .......... .......... .......... .......... 46%  199M 1s\n",
      "  6150K .......... .......... .......... .......... .......... 46%  159M 1s\n",
      "  6200K .......... .......... .......... .......... .......... 47%  179M 1s\n",
      "  6250K .......... .......... .......... .......... .......... 47% 67.4M 0s\n",
      "  6300K .......... .......... .......... .......... .......... 47%  182M 0s\n",
      "  6350K .......... .......... .......... .......... .......... 48%  105M 0s\n",
      "  6400K .......... .......... .......... .......... .......... 48%  148M 0s\n",
      "  6450K .......... .......... .......... .......... .......... 49% 86.0M 0s\n",
      "  6500K .......... .......... .......... .......... .......... 49%  109M 0s\n",
      "  6550K .......... .......... .......... .......... .......... 49%  114M 0s\n",
      "  6600K .......... .......... .......... .......... .......... 50%  182M 0s\n",
      "  6650K .......... .......... .......... .......... .......... 50%  104M 0s\n",
      "  6700K .......... .......... .......... .......... .......... 50% 83.3M 0s\n",
      "  6750K .......... .......... .......... .......... .......... 51% 74.2M 0s\n",
      "  6800K .......... .......... .......... .......... .......... 51% 93.4M 0s\n",
      "  6850K .......... .......... .......... .......... .......... 52%  141M 0s\n",
      "  6900K .......... .......... .......... .......... .......... 52% 86.0M 0s\n",
      "  6950K .......... .......... .......... .......... .......... 52%  144M 0s\n",
      "  7000K .......... .......... .......... .......... .......... 53% 22.8M 0s\n",
      "  7050K .......... .......... .......... .......... .......... 53%  151M 0s\n",
      "  7100K .......... .......... .......... .......... .......... 53%  210M 0s\n",
      "  7150K .......... .......... .......... .......... .......... 54%  177M 0s\n",
      "  7200K .......... .......... .......... .......... .......... 54%  158M 0s\n",
      "  7250K .......... .......... .......... .......... .......... 55%  126M 0s\n",
      "  7300K .......... .......... .......... .......... .......... 55%  162M 0s\n",
      "  7350K .......... .......... .......... .......... .......... 55%  152M 0s\n",
      "  7400K .......... .......... .......... .......... .......... 56% 74.1M 0s\n",
      "  7450K .......... .......... .......... .......... .......... 56%  137M 0s\n",
      "  7500K .......... .......... .......... .......... .......... 56%  162M 0s\n",
      "  7550K .......... .......... .......... .......... .......... 57%  172M 0s\n",
      "  7600K .......... .......... .......... .......... .......... 57%  225M 0s\n",
      "  7650K .......... .......... .......... .......... .......... 58%  204M 0s\n",
      "  7700K .......... .......... .......... .......... .......... 58%  205M 0s\n",
      "  7750K .......... .......... .......... .......... .......... 58%  161M 0s\n",
      "  7800K .......... .......... .......... .......... .......... 59%  186M 0s\n",
      "  7850K .......... .......... .......... .......... .......... 59%  117M 0s\n",
      "  7900K .......... .......... .......... .......... .......... 60%  145M 0s\n",
      "  7950K .......... .......... .......... .......... .......... 60%  173M 0s\n",
      "  8000K .......... .......... .......... .......... .......... 60%  173M 0s\n",
      "  8050K .......... .......... .......... .......... .......... 61%  161M 0s\n",
      "  8100K .......... .......... .......... .......... .......... 61%  172M 0s\n",
      "  8150K .......... .......... .......... .......... .......... 61% 89.7M 0s\n",
      "  8200K .......... .......... .......... .......... .......... 62%  114M 0s\n",
      "  8250K .......... .......... .......... .......... .......... 62%  170M 0s\n",
      "  8300K .......... .......... .......... .......... .......... 63%  184M 0s\n",
      "  8350K .......... .......... .......... .......... .......... 63% 74.3M 0s\n",
      "  8400K .......... .......... .......... .......... .......... 63%  162M 0s\n",
      "  8450K .......... .......... .......... .......... .......... 64% 92.3M 0s\n",
      "  8500K .......... .......... .......... .......... .......... 64%  169M 0s\n",
      "  8550K .......... .......... .......... .......... .......... 64% 95.8M 0s\n",
      "  8600K .......... .......... .......... .......... .......... 65%  201M 0s\n",
      "  8650K .......... .......... .......... .......... .......... 65%  167M 0s\n",
      "  8700K .......... .......... .......... .......... .......... 66%  225M 0s\n",
      "  8750K .......... .......... .......... .......... .......... 66%  223M 0s\n",
      "  8800K .......... .......... .......... .......... .......... 66%  227M 0s\n",
      "  8850K .......... .......... .......... .......... .......... 67% 1.47M 0s\n",
      "  8900K .......... .......... .......... .......... .......... 67%  136M 0s\n",
      "  8950K .......... .......... .......... .......... .......... 67%  171M 0s\n",
      "  9000K .......... .......... .......... .......... .......... 68%  141M 0s\n",
      "  9050K .......... .......... .......... .......... .......... 68%  107M 0s\n",
      "  9100K .......... .......... .......... .......... .......... 69%  137M 0s\n",
      "  9150K .......... .......... .......... .......... .......... 69%  142M 0s\n",
      "  9200K .......... .......... .......... .......... .......... 69%  120M 0s\n",
      "  9250K .......... .......... .......... .......... .......... 70%  117M 0s\n",
      "  9300K .......... .......... .......... .......... .......... 70%  137M 0s\n",
      "  9350K .......... .......... .......... .......... .......... 70%  145M 0s\n",
      "  9400K .......... .......... .......... .......... .......... 71%  145M 0s\n",
      "  9450K .......... .......... .......... .......... .......... 71%  120M 0s\n",
      "  9500K .......... .......... .......... .......... .......... 72%  150M 0s\n",
      "  9550K .......... .......... .......... .......... .......... 72%  140M 0s\n",
      "  9600K .......... .......... .......... .......... .......... 72%  118M 0s\n",
      "  9650K .......... .......... .......... .......... .......... 73%  143M 0s\n",
      "  9700K .......... .......... .......... .......... .......... 73%  162M 0s\n",
      "  9750K .......... .......... .......... .......... .......... 73%  141M 0s\n",
      "  9800K .......... .......... .......... .......... .......... 74%  132M 0s\n",
      "  9850K .......... .......... .......... .......... .......... 74%  132M 0s\n",
      "  9900K .......... .......... .......... .......... .......... 75%  153M 0s\n",
      "  9950K .......... .......... .......... .......... .......... 75%  149M 0s\n",
      " 10000K .......... .......... .......... .......... .......... 75%  166M 0s\n",
      " 10050K .......... .......... .......... .......... .......... 76%  135M 0s\n",
      " 10100K .......... .......... .......... .......... .......... 76%  163M 0s\n",
      " 10150K .......... .......... .......... .......... .......... 76%  206M 0s\n",
      " 10200K .......... .......... .......... .......... .......... 77% 66.8M 0s\n",
      " 10250K .......... .......... .......... .......... .......... 77% 53.3M 0s\n",
      " 10300K .......... .......... .......... .......... .......... 78% 72.7M 0s\n",
      " 10350K .......... .......... .......... .......... .......... 78% 89.6M 0s\n",
      " 10400K .......... .......... .......... .......... .......... 78% 77.2M 0s\n",
      " 10450K .......... .......... .......... .......... .......... 79%  125M 0s\n",
      " 10500K .......... .......... .......... .......... .......... 79%  132M 0s\n",
      " 10550K .......... .......... .......... .......... .......... 80%  140M 0s\n",
      " 10600K .......... .......... .......... .......... .......... 80%  139M 0s\n",
      " 10650K .......... .......... .......... .......... .......... 80%  119M 0s\n",
      " 10700K .......... .......... .......... .......... .......... 81%  158M 0s\n",
      " 10750K .......... .......... .......... .......... .......... 81%  160M 0s\n",
      " 10800K .......... .......... .......... .......... .......... 81%  126M 0s\n",
      " 10850K .......... .......... .......... .......... .......... 82%  106M 0s\n",
      " 10900K .......... .......... .......... .......... .......... 82%  113M 0s\n",
      " 10950K .......... .......... .......... .......... .......... 83%  136M 0s\n",
      " 11000K .......... .......... .......... .......... .......... 83%  104M 0s\n",
      " 11050K .......... .......... .......... .......... .......... 83%  146M 0s\n",
      " 11100K .......... .......... .......... .......... .......... 84%  177M 0s\n",
      " 11150K .......... .......... .......... .......... .......... 84%  182M 0s\n",
      " 11200K .......... .......... .......... .......... .......... 84% 63.2M 0s\n",
      " 11250K .......... .......... .......... .......... .......... 85%  190M 0s\n",
      " 11300K .......... .......... .......... .......... .......... 85%  213M 0s\n",
      " 11350K .......... .......... .......... .......... .......... 86%  195M 0s\n",
      " 11400K .......... .......... .......... .......... .......... 86%  224M 0s\n",
      " 11450K .......... .......... .......... .......... .......... 86%  153M 0s\n",
      " 11500K .......... .......... .......... .......... .......... 87%  146M 0s\n",
      " 11550K .......... .......... .......... .......... .......... 87%  192M 0s\n",
      " 11600K .......... .......... .......... .......... .......... 87%  193M 0s\n",
      " 11650K .......... .......... .......... .......... .......... 88%  155M 0s\n",
      " 11700K .......... .......... .......... .......... .......... 88%  183M 0s\n",
      " 11750K .......... .......... .......... .......... .......... 89%  185M 0s\n",
      " 11800K .......... .......... .......... .......... .......... 89%  191M 0s\n",
      " 11850K .......... .......... .......... .......... .......... 89%  138M 0s\n",
      " 11900K .......... .......... .......... .......... .......... 90%  169M 0s\n",
      " 11950K .......... .......... .......... .......... .......... 90%  167M 0s\n",
      " 12000K .......... .......... .......... .......... .......... 90%  177M 0s\n",
      " 12050K .......... .......... .......... .......... .......... 91%  127M 0s\n",
      " 12100K .......... .......... .......... .......... .......... 91%  147M 0s\n",
      " 12150K .......... .......... .......... .......... .......... 92%  151M 0s\n",
      " 12200K .......... .......... .......... .......... .......... 92% 1.43M 0s\n",
      " 12250K .......... .......... .......... .......... .......... 92% 45.4M 0s\n",
      " 12300K .......... .......... .......... .......... .......... 93% 90.1M 0s\n",
      " 12350K .......... .......... .......... .......... .......... 93%  108M 0s\n",
      " 12400K .......... .......... .......... .......... .......... 93%  138M 0s\n",
      " 12450K .......... .......... .......... .......... .......... 94%  139M 0s\n",
      " 12500K .......... .......... .......... .......... .......... 94%  131M 0s\n",
      " 12550K .......... .......... .......... .......... .......... 95%  159M 0s\n",
      " 12600K .......... .......... .......... .......... .......... 95%  154M 0s\n",
      " 12650K .......... .......... .......... .......... .......... 95%  113M 0s\n",
      " 12700K .......... .......... .......... .......... .......... 96%  160M 0s\n",
      " 12750K .......... .......... .......... .......... .......... 96%  144M 0s\n",
      " 12800K .......... .......... .......... .......... .......... 96%  144M 0s\n",
      " 12850K .......... .......... .......... .......... .......... 97%  140M 0s\n",
      " 12900K .......... .......... .......... .......... .......... 97%  144M 0s\n",
      " 12950K .......... .......... .......... .......... .......... 98%  183M 0s\n",
      " 13000K .......... .......... .......... .......... .......... 98%  210M 0s\n",
      " 13050K .......... .......... .......... .......... .......... 98%  160M 0s\n",
      " 13100K .......... .......... .......... .......... .......... 99%  139M 0s\n",
      " 13150K .......... .......... .......... .......... .......... 99%  150M 0s\n",
      " 13200K .......... .......... .......... .......... .......   100%  141M=0.6s\n",
      "\n",
      "2025-04-18 04:12:48 (22.6 MB/s) - ‘jena_climate_2009_2016.csv.zip’ saved [13565642/13565642]\n",
      "\n"
     ]
    },
    {
     "name": "stdout",
     "output_type": "stream",
     "text": [
      "Archive:  jena_climate_2009_2016.csv.zip\n",
      "  inflating: jena_climate_2009_2016.csv  \n",
      "  inflating: __MACOSX/._jena_climate_2009_2016.csv  \n"
     ]
    }
   ],
   "source": [
    "%%bash\n",
    "mkdir jena_climate\n",
    "cd jena_climate\n",
    "wget https://s3.amazonaws.com/keras-datasets/jena_climate_2009_2016.csv.zip\n",
    "unzip jena_climate_2009_2016.csv.zip"
   ]
  },
  {
   "cell_type": "markdown",
   "metadata": {
    "id": "dSx_YccHWled"
   },
   "source": [
    "By the way, the following code is a modified version of the code that can be found in [1]. That said, let us begin by importing some useful libraries and modules."
   ]
  },
  {
   "cell_type": "code",
   "execution_count": 3,
   "metadata": {
    "id": "6W8aBhMJZ5lE"
   },
   "outputs": [],
   "source": [
    "import os\n",
    "import numpy as np\n",
    "import matplotlib.pyplot as plt\n",
    "\n",
    "from matplotlib import pyplot as plt\n",
    "from tensorflow import keras\n",
    "from tensorflow.keras import layers"
   ]
  },
  {
   "cell_type": "markdown",
   "metadata": {
    "id": "Ra6c0_-HZ5lE"
   },
   "source": [
    "The following lines of code will open the `csv` file that was downloaded and store that information in the variable named `data`."
   ]
  },
  {
   "cell_type": "code",
   "execution_count": 4,
   "metadata": {
    "colab": {
     "base_uri": "https://localhost:8080/"
    },
    "id": "LB7vqC3SWled",
    "outputId": "557e562a-8bdb-40ad-c62d-897d153c9826"
   },
   "outputs": [
    {
     "name": "stdout",
     "output_type": "stream",
     "text": [
      "['\"Date Time\"', '\"p (mbar)\"', '\"T (degC)\"', '\"Tpot (K)\"', '\"Tdew (degC)\"', '\"rh (%)\"', '\"VPmax (mbar)\"', '\"VPact (mbar)\"', '\"VPdef (mbar)\"', '\"sh (g/kg)\"', '\"H2OC (mmol/mol)\"', '\"rho (g/m**3)\"', '\"wv (m/s)\"', '\"max. wv (m/s)\"', '\"wd (deg)\"']\n",
      "420451\n"
     ]
    }
   ],
   "source": [
    "data_dir = 'jena_climate'\n",
    "fname = os.path.join(data_dir, \"jena_climate_2009_2016.csv\")\n",
    "\n",
    "with open(fname) as f:\n",
    "    data = f.read()\n",
    "\n",
    "lines = data.split(\"\\n\")\n",
    "header = lines[0].split(\",\")\n",
    "lines = lines[1:]\n",
    "print(header)\n",
    "print(len(lines))"
   ]
  },
  {
   "cell_type": "markdown",
   "metadata": {
    "id": "N5ASAQEFZ5lF"
   },
   "source": [
    "We can see that we're working with 14 variables and 420,551 registers. In the following cell, we'll create two `NumPy` arrays: one for the temperature variable (`temperature`), and another one for all the data (`raw_data`).  "
   ]
  },
  {
   "cell_type": "code",
   "execution_count": 5,
   "metadata": {
    "id": "XOprgXR3Wled"
   },
   "outputs": [],
   "source": [
    "temperature = np.zeros((len(lines),))\n",
    "raw_data = np.zeros((len(lines), len(header) - 1))\n",
    "for i, line in enumerate(lines):\n",
    "    values = [float(x) for x in line.split(\",\")[1:]]\n",
    "    temperature[i] = values[1]\n",
    "    raw_data[i, :] = values[:]"
   ]
  },
  {
   "cell_type": "markdown",
   "metadata": {
    "id": "0X04lh2GWlee"
   },
   "source": [
    "Here is the plot of temperature (in degrees Celsius) over time. On this plot, you can clearly see the yearly periodicity of temperature."
   ]
  },
  {
   "cell_type": "code",
   "execution_count": 6,
   "metadata": {
    "colab": {
     "base_uri": "https://localhost:8080/",
     "height": 451
    },
    "id": "y2ewHkpyWlee",
    "outputId": "f0c682ee-a84a-4531-dd90-0f90bc7bd3d8"
   },
   "outputs": [
    {
     "data": {
      "text/plain": [
       "[<matplotlib.lines.Line2D at 0x7dc9ecc14290>]"
      ]
     },
     "execution_count": 6,
     "metadata": {},
     "output_type": "execute_result"
    },
    {
     "data": {
      "image/png": "[encoded data removed]",
      "text/plain": [
       "<Figure size 640x480 with 1 Axes>"
      ]
     },
     "metadata": {},
     "output_type": "display_data"
    }
   ],
   "source": [
    "plt.plot(range(len(temperature)), temperature)"
   ]
  },
  {
   "cell_type": "markdown",
   "metadata": {
    "id": "g0S2ye1WWlee"
   },
   "source": [
    "By the way, it is recommended that you always look for periodicity in your data. Time series data usually have periodicity on different time scales, so it's important to find these patterns so that the models we train can learn them.\n",
    "\n",
    "In the next steps we'll allocate 50% of the data to training, 25% to validation and the remainder to testing. When dealing with time series data, it's important to ensure that the validation and test data sets are more recent than the training data. This is because our goal is to predict the future based on past observations, not to predict the past based on the future."
   ]
  },
  {
   "cell_type": "code",
   "execution_count": 7,
   "metadata": {
    "colab": {
     "base_uri": "https://localhost:8080/"
    },
    "id": "wInAPj2QWlee",
    "outputId": "e1dd33e3-01b8-4cff-e39d-839dbed8ac36"
   },
   "outputs": [
    {
     "name": "stdout",
     "output_type": "stream",
     "text": [
      "num_train_samples: 210225\n",
      "num_val_samples: 105112\n",
      "num_test_samples: 105114\n"
     ]
    }
   ],
   "source": [
    "num_train_samples = int(0.5 * len(raw_data))\n",
    "num_val_samples = int(0.25 * len(raw_data))\n",
    "num_test_samples = len(raw_data) - num_train_samples - num_val_samples\n",
    "print(\"num_train_samples:\", num_train_samples)\n",
    "print(\"num_val_samples:\", num_val_samples)\n",
    "print(\"num_test_samples:\", num_test_samples)"
   ]
  },
  {
   "cell_type": "markdown",
   "metadata": {
    "id": "XOoizdpSWlef"
   },
   "source": [
    "## Formulation of the problem\n",
    "\n",
    "The problem we will be solving goes as follows: given data going as far back as `sequence_length` timesteps (a timestep is 10 minutes) and sampled every `sampling_rate` timesteps, can we predict the temperature in `delay` timesteps? We will use the following parameter values:\n",
    "\n",
    "- `sequence_length`: 120—Observations will go back 5 days.\n",
    "- `sampling_rate`: 6—Observations will be sampled at one data point per hour.\n",
    "- `delay`: Targets will be 24 hours after the end of the sequence.\n",
    "\n",
    "## Preparing the data\n",
    "\n",
    "Each time series in the dataset operates on a different scale: for example, temperature typically ranges between -20 and +30, whereas atmospheric pressure, measured in mbar, hovers around 1,000. To deal with this, we'll normalize each time series independently, ensuring that they all have small values within a comparable scale."
   ]
  },
  {
   "cell_type": "code",
   "execution_count": 8,
   "metadata": {
    "id": "EXq06b7QWlef"
   },
   "outputs": [],
   "source": [
    "mean = raw_data[: num_train_samples].mean(axis=0)\n",
    "raw_data -= mean\n",
    "std = raw_data[: num_train_samples].std(axis=0)\n",
    "raw_data /= std"
   ]
  },
  {
   "cell_type": "markdown",
   "metadata": {
    "id": "eiQElr1TZ5lG"
   },
   "source": [
    "Next, we'll construct a `dataset` object that produces batches of data over the past five days, along with a target temperature for 24 hours into the future.\n",
    "\n",
    "As before, we could write a `Python` generator to do this, however, `Keras`  provides a handy built-in dataset utility (`timeseries_dataset_from_array()`). As expected, we'll use this utility to instantiate three datasets: one fore training, onf for validation, and one for testing."
   ]
  },
  {
   "cell_type": "code",
   "execution_count": 9,
   "metadata": {
    "id": "ECEUWOdjWlef"
   },
   "outputs": [
    {
     "name": "stderr",
     "output_type": "stream",
     "text": [
      "2025-04-19 04:37:17.248822: E external/local_xla/xla/stream_executor/cuda/cuda_platform.cc:51] failed call to cuInit: INTERNAL: CUDA error: Failed call to cuInit: UNKNOWN ERROR (303)\n"
     ]
    }
   ],
   "source": [
    "sampling_rate = 6\n",
    "sequence_length = 120\n",
    "delay = sampling_rate * (sequence_length + 24 - 1)\n",
    "batch_size = 256\n",
    "\n",
    "train_dataset = keras.utils.timeseries_dataset_from_array(\n",
    "    raw_data[:-delay],\n",
    "    targets=temperature[delay:],\n",
    "    sampling_rate=sampling_rate,\n",
    "    sequence_length=sequence_length,\n",
    "    shuffle=True,\n",
    "    batch_size=batch_size,\n",
    "    start_index=0,\n",
    "    end_index=num_train_samples)\n",
    "\n",
    "val_dataset = keras.utils.timeseries_dataset_from_array(\n",
    "    raw_data[:-delay],\n",
    "    targets=temperature[delay:],\n",
    "    sampling_rate=sampling_rate,\n",
    "    sequence_length=sequence_length,\n",
    "    shuffle=True,\n",
    "    batch_size=batch_size,\n",
    "    start_index=num_train_samples,\n",
    "    end_index=num_train_samples + num_val_samples)\n",
    "\n",
    "test_dataset = keras.utils.timeseries_dataset_from_array(\n",
    "    raw_data[:-delay],\n",
    "    targets=temperature[delay:],\n",
    "    sampling_rate=sampling_rate,\n",
    "    sequence_length=sequence_length,\n",
    "    shuffle=True,\n",
    "    batch_size=batch_size,\n",
    "    start_index=num_train_samples + num_val_samples)"
   ]
  },
  {
   "cell_type": "markdown",
   "metadata": {
    "id": "EsWTAifeWlef"
   },
   "source": [
    "Every dataset provides a tuple (`samples`, `targets`), where samples represent a batch of 256 samples. Each `sample` comprises 120 consecutive hours of input data, while `targets` consist of the corresponding array of 256 target temperatures. It's important to note that the samples are shuffled randomly, meaning that two consecutive sequences in a batch (such as `samples[0]` and `samples[1]`) may not be temporally adjacent.\n",
    "\n",
    "## A common-sense baseline\n",
    "\n",
    "In this scenario, we can reasonably assume that the temperature timeseries is continuous (tomorrow's temperatures are expected to be similar to today's) and periodic, with a daily cycle. Therefore, a straightforward approach is to predict that the temperature 24 hours from now will be the same as the current temperature. We'll assess this method using the mean absolute error (MAE) metric."
   ]
  },
  {
   "cell_type": "code",
   "execution_count": 10,
   "metadata": {
    "colab": {
     "base_uri": "https://localhost:8080/"
    },
    "id": "4VLZ2ZpdWleg",
    "outputId": "b12b5430-fa30-455b-f5d0-a4633f55eb99"
   },
   "outputs": [
    {
     "name": "stderr",
     "output_type": "stream",
     "text": [
      "2025-04-19 04:37:29.132764: I tensorflow/core/framework/local_rendezvous.cc:407] Local rendezvous is aborting with status: OUT_OF_RANGE: End of sequence\n"
     ]
    },
    {
     "name": "stdout",
     "output_type": "stream",
     "text": [
      "Validation MAE: 2.44\n",
      "Test MAE: 2.62\n"
     ]
    },
    {
     "name": "stderr",
     "output_type": "stream",
     "text": [
      "2025-04-19 04:37:34.338831: I tensorflow/core/framework/local_rendezvous.cc:407] Local rendezvous is aborting with status: OUT_OF_RANGE: End of sequence\n"
     ]
    }
   ],
   "source": [
    "def evaluate_naive_method(dataset):\n",
    "\n",
    "    total_abs_err = 0.\n",
    "    samples_seen = 0\n",
    "\n",
    "    for samples, targets in dataset:\n",
    "        preds = samples[:, -1, 1] * std[1] + mean[1]\n",
    "        total_abs_err += np.sum(np.abs(preds - targets))\n",
    "        samples_seen += samples.shape[0]\n",
    "\n",
    "    return total_abs_err / samples_seen\n",
    "\n",
    "print(f\"Validation MAE: {evaluate_naive_method(val_dataset):.2f}\")\n",
    "print(f\"Test MAE: {evaluate_naive_method(test_dataset):.2f}\")"
   ]
  },
  {
   "cell_type": "markdown",
   "metadata": {
    "id": "DCxnzB4JWleg"
   },
   "source": [
    "This simple baseline results in a validation MAE of 2.44 degrees Celsius and a test MAE of 2.62 degrees Celsius. Therefore, predicting that the temperature 24 hours ahead will be identical to the current temperature leads to an average error of around two and a half degrees. This said, we'd expect our models to do better than this.  "
   ]
  },
  {
   "cell_type": "markdown",
   "metadata": {},
   "source": [
    "## Transformer model"
   ]
  },
  {
   "cell_type": "code",
   "execution_count": 11,
   "metadata": {},
   "outputs": [],
   "source": [
    "def transformer_encoder(inputs, head_size, num_heads, ff_dim, dropout=0):\n",
    "    # Attention and Normalization\n",
    "    attention = layers.MultiHeadAttention(\n",
    "        key_dim=head_size, num_heads=num_heads, dropout=dropout\n",
    "    )(inputs, inputs)\n",
    "    attention = layers.Dropout(dropout)(attention)\n",
    "    x = layers.LayerNormalization(epsilon=1e-6)(inputs + attention)\n",
    "\n",
    "    # Feed Forward Part\n",
    "    ff = layers.Conv1D(filters=ff_dim, kernel_size=1, activation=\"relu\")(x)\n",
    "    ff = layers.Dropout(dropout)(ff)\n",
    "    ff = layers.Conv1D(filters=inputs.shape[-1], kernel_size=1)(ff)\n",
    "    out = layers.LayerNormalization(epsilon=1e-6)(x + ff)\n",
    "    return out\n"
   ]
  },
  {
   "cell_type": "code",
   "execution_count": 12,
   "metadata": {},
   "outputs": [],
   "source": [
    "def build_model(\n",
    "    input_shape,\n",
    "    head_size,\n",
    "    num_heads,\n",
    "    ff_dim,\n",
    "    num_transformer_blocks,\n",
    "    mlp_units,\n",
    "    dropout=0,\n",
    "    mlp_dropout=0,\n",
    "):\n",
    "    inputs = keras.Input(shape=(input_shape))\n",
    "    x = inputs\n",
    "    for _ in range(num_transformer_blocks):\n",
    "        x = transformer_encoder(x, head_size, num_heads, ff_dim, dropout)\n",
    "\n",
    "    x = layers.GlobalAveragePooling1D()(x)\n",
    "    for dim in mlp_units:\n",
    "        x = layers.Dense(dim, activation=\"relu\")(x)\n",
    "        x = layers.Dropout(mlp_dropout)(x)\n",
    "    outputs = layers.Dense(1)(x) # modifiqué esto para que fuera una sola salida porque es regresión\n",
    "    return keras.Model(inputs, outputs)"
   ]
  },
  {
   "cell_type": "code",
   "execution_count": 13,
   "metadata": {},
   "outputs": [
    {
     "data": {
      "text/plain": [
       "(120, 14)"
      ]
     },
     "execution_count": 13,
     "metadata": {},
     "output_type": "execute_result"
    }
   ],
   "source": [
    "(sequence_length, raw_data.shape[1])"
   ]
  },
  {
   "cell_type": "code",
   "execution_count": null,
   "metadata": {},
   "outputs": [
    {
     "data": {
      "text/html": [
       "<pre style=\"white-space:pre;overflow-x:auto;line-height:normal;font-family:Menlo,'DejaVu Sans Mono',consolas,'Courier New',monospace\"><span style=\"font-weight: bold\">Model: \"functional_1\"</span>\n",
       "</pre>\n"
      ],
      "text/plain": [
       "\u001b[1mModel: \"functional_1\"\u001b[0m\n"
      ]
     },
     "metadata": {},
     "output_type": "display_data"
    },
    {
     "data": {
      "text/html": [
       "<pre style=\"white-space:pre;overflow-x:auto;line-height:normal;font-family:Menlo,'DejaVu Sans Mono',consolas,'Courier New',monospace\">┏━━━━━━━━━━━━━━━━━━━━━┳━━━━━━━━━━━━━━━━━━━┳━━━━━━━━━━━━┳━━━━━━━━━━━━━━━━━━━┓\n",
       "┃<span style=\"font-weight: bold\"> Layer (type)        </span>┃<span style=\"font-weight: bold\"> Output Shape      </span>┃<span style=\"font-weight: bold\">    Param # </span>┃<span style=\"font-weight: bold\"> Connected to      </span>┃\n",
       "┡━━━━━━━━━━━━━━━━━━━━━╇━━━━━━━━━━━━━━━━━━━╇━━━━━━━━━━━━╇━━━━━━━━━━━━━━━━━━━┩\n",
       "│ input_layer_1       │ (<span style=\"color: #00d7ff; text-decoration-color: #00d7ff\">None</span>, <span style=\"color: #00af00; text-decoration-color: #00af00\">120</span>, <span style=\"color: #00af00; text-decoration-color: #00af00\">14</span>)   │          <span style=\"color: #00af00; text-decoration-color: #00af00\">0</span> │ -                 │\n",
       "│ (<span style=\"color: #0087ff; text-decoration-color: #0087ff\">InputLayer</span>)        │                   │            │                   │\n",
       "├─────────────────────┼───────────────────┼────────────┼───────────────────┤\n",
       "│ multi_head_attenti… │ (<span style=\"color: #00d7ff; text-decoration-color: #00d7ff\">None</span>, <span style=\"color: #00af00; text-decoration-color: #00af00\">120</span>, <span style=\"color: #00af00; text-decoration-color: #00af00\">14</span>)   │      <span style=\"color: #00af00; text-decoration-color: #00af00\">7,566</span> │ input_layer_1[<span style=\"color: #00af00; text-decoration-color: #00af00\">0</span>]… │\n",
       "│ (<span style=\"color: #0087ff; text-decoration-color: #0087ff\">MultiHeadAttentio…</span> │                   │            │ input_layer_1[<span style=\"color: #00af00; text-decoration-color: #00af00\">0</span>]… │\n",
       "├─────────────────────┼───────────────────┼────────────┼───────────────────┤\n",
       "│ dropout_8 (<span style=\"color: #0087ff; text-decoration-color: #0087ff\">Dropout</span>) │ (<span style=\"color: #00d7ff; text-decoration-color: #00d7ff\">None</span>, <span style=\"color: #00af00; text-decoration-color: #00af00\">120</span>, <span style=\"color: #00af00; text-decoration-color: #00af00\">14</span>)   │          <span style=\"color: #00af00; text-decoration-color: #00af00\">0</span> │ multi_head_atten… │\n",
       "├─────────────────────┼───────────────────┼────────────┼───────────────────┤\n",
       "│ add_4 (<span style=\"color: #0087ff; text-decoration-color: #0087ff\">Add</span>)         │ (<span style=\"color: #00d7ff; text-decoration-color: #00d7ff\">None</span>, <span style=\"color: #00af00; text-decoration-color: #00af00\">120</span>, <span style=\"color: #00af00; text-decoration-color: #00af00\">14</span>)   │          <span style=\"color: #00af00; text-decoration-color: #00af00\">0</span> │ input_layer_1[<span style=\"color: #00af00; text-decoration-color: #00af00\">0</span>]… │\n",
       "│                     │                   │            │ dropout_8[<span style=\"color: #00af00; text-decoration-color: #00af00\">0</span>][<span style=\"color: #00af00; text-decoration-color: #00af00\">0</span>]   │\n",
       "├─────────────────────┼───────────────────┼────────────┼───────────────────┤\n",
       "│ layer_normalizatio… │ (<span style=\"color: #00d7ff; text-decoration-color: #00d7ff\">None</span>, <span style=\"color: #00af00; text-decoration-color: #00af00\">120</span>, <span style=\"color: #00af00; text-decoration-color: #00af00\">14</span>)   │         <span style=\"color: #00af00; text-decoration-color: #00af00\">28</span> │ add_4[<span style=\"color: #00af00; text-decoration-color: #00af00\">0</span>][<span style=\"color: #00af00; text-decoration-color: #00af00\">0</span>]       │\n",
       "│ (<span style=\"color: #0087ff; text-decoration-color: #0087ff\">LayerNormalizatio…</span> │                   │            │                   │\n",
       "├─────────────────────┼───────────────────┼────────────┼───────────────────┤\n",
       "│ conv1d_4 (<span style=\"color: #0087ff; text-decoration-color: #0087ff\">Conv1D</span>)   │ (<span style=\"color: #00d7ff; text-decoration-color: #00d7ff\">None</span>, <span style=\"color: #00af00; text-decoration-color: #00af00\">120</span>, <span style=\"color: #00af00; text-decoration-color: #00af00\">128</span>)  │      <span style=\"color: #00af00; text-decoration-color: #00af00\">1,920</span> │ layer_normalizat… │\n",
       "├─────────────────────┼───────────────────┼────────────┼───────────────────┤\n",
       "│ dropout_9 (<span style=\"color: #0087ff; text-decoration-color: #0087ff\">Dropout</span>) │ (<span style=\"color: #00d7ff; text-decoration-color: #00d7ff\">None</span>, <span style=\"color: #00af00; text-decoration-color: #00af00\">120</span>, <span style=\"color: #00af00; text-decoration-color: #00af00\">128</span>)  │          <span style=\"color: #00af00; text-decoration-color: #00af00\">0</span> │ conv1d_4[<span style=\"color: #00af00; text-decoration-color: #00af00\">0</span>][<span style=\"color: #00af00; text-decoration-color: #00af00\">0</span>]    │\n",
       "├─────────────────────┼───────────────────┼────────────┼───────────────────┤\n",
       "│ conv1d_5 (<span style=\"color: #0087ff; text-decoration-color: #0087ff\">Conv1D</span>)   │ (<span style=\"color: #00d7ff; text-decoration-color: #00d7ff\">None</span>, <span style=\"color: #00af00; text-decoration-color: #00af00\">120</span>, <span style=\"color: #00af00; text-decoration-color: #00af00\">14</span>)   │      <span style=\"color: #00af00; text-decoration-color: #00af00\">1,806</span> │ dropout_9[<span style=\"color: #00af00; text-decoration-color: #00af00\">0</span>][<span style=\"color: #00af00; text-decoration-color: #00af00\">0</span>]   │\n",
       "├─────────────────────┼───────────────────┼────────────┼───────────────────┤\n",
       "│ add_5 (<span style=\"color: #0087ff; text-decoration-color: #0087ff\">Add</span>)         │ (<span style=\"color: #00d7ff; text-decoration-color: #00d7ff\">None</span>, <span style=\"color: #00af00; text-decoration-color: #00af00\">120</span>, <span style=\"color: #00af00; text-decoration-color: #00af00\">14</span>)   │          <span style=\"color: #00af00; text-decoration-color: #00af00\">0</span> │ layer_normalizat… │\n",
       "│                     │                   │            │ conv1d_5[<span style=\"color: #00af00; text-decoration-color: #00af00\">0</span>][<span style=\"color: #00af00; text-decoration-color: #00af00\">0</span>]    │\n",
       "├─────────────────────┼───────────────────┼────────────┼───────────────────┤\n",
       "│ layer_normalizatio… │ (<span style=\"color: #00d7ff; text-decoration-color: #00d7ff\">None</span>, <span style=\"color: #00af00; text-decoration-color: #00af00\">120</span>, <span style=\"color: #00af00; text-decoration-color: #00af00\">14</span>)   │         <span style=\"color: #00af00; text-decoration-color: #00af00\">28</span> │ add_5[<span style=\"color: #00af00; text-decoration-color: #00af00\">0</span>][<span style=\"color: #00af00; text-decoration-color: #00af00\">0</span>]       │\n",
       "│ (<span style=\"color: #0087ff; text-decoration-color: #0087ff\">LayerNormalizatio…</span> │                   │            │                   │\n",
       "├─────────────────────┼───────────────────┼────────────┼───────────────────┤\n",
       "│ multi_head_attenti… │ (<span style=\"color: #00d7ff; text-decoration-color: #00d7ff\">None</span>, <span style=\"color: #00af00; text-decoration-color: #00af00\">120</span>, <span style=\"color: #00af00; text-decoration-color: #00af00\">14</span>)   │      <span style=\"color: #00af00; text-decoration-color: #00af00\">7,566</span> │ layer_normalizat… │\n",
       "│ (<span style=\"color: #0087ff; text-decoration-color: #0087ff\">MultiHeadAttentio…</span> │                   │            │ layer_normalizat… │\n",
       "├─────────────────────┼───────────────────┼────────────┼───────────────────┤\n",
       "│ dropout_11          │ (<span style=\"color: #00d7ff; text-decoration-color: #00d7ff\">None</span>, <span style=\"color: #00af00; text-decoration-color: #00af00\">120</span>, <span style=\"color: #00af00; text-decoration-color: #00af00\">14</span>)   │          <span style=\"color: #00af00; text-decoration-color: #00af00\">0</span> │ multi_head_atten… │\n",
       "│ (<span style=\"color: #0087ff; text-decoration-color: #0087ff\">Dropout</span>)           │                   │            │                   │\n",
       "├─────────────────────┼───────────────────┼────────────┼───────────────────┤\n",
       "│ add_6 (<span style=\"color: #0087ff; text-decoration-color: #0087ff\">Add</span>)         │ (<span style=\"color: #00d7ff; text-decoration-color: #00d7ff\">None</span>, <span style=\"color: #00af00; text-decoration-color: #00af00\">120</span>, <span style=\"color: #00af00; text-decoration-color: #00af00\">14</span>)   │          <span style=\"color: #00af00; text-decoration-color: #00af00\">0</span> │ layer_normalizat… │\n",
       "│                     │                   │            │ dropout_11[<span style=\"color: #00af00; text-decoration-color: #00af00\">0</span>][<span style=\"color: #00af00; text-decoration-color: #00af00\">0</span>]  │\n",
       "├─────────────────────┼───────────────────┼────────────┼───────────────────┤\n",
       "│ layer_normalizatio… │ (<span style=\"color: #00d7ff; text-decoration-color: #00d7ff\">None</span>, <span style=\"color: #00af00; text-decoration-color: #00af00\">120</span>, <span style=\"color: #00af00; text-decoration-color: #00af00\">14</span>)   │         <span style=\"color: #00af00; text-decoration-color: #00af00\">28</span> │ add_6[<span style=\"color: #00af00; text-decoration-color: #00af00\">0</span>][<span style=\"color: #00af00; text-decoration-color: #00af00\">0</span>]       │\n",
       "│ (<span style=\"color: #0087ff; text-decoration-color: #0087ff\">LayerNormalizatio…</span> │                   │            │                   │\n",
       "├─────────────────────┼───────────────────┼────────────┼───────────────────┤\n",
       "│ conv1d_6 (<span style=\"color: #0087ff; text-decoration-color: #0087ff\">Conv1D</span>)   │ (<span style=\"color: #00d7ff; text-decoration-color: #00d7ff\">None</span>, <span style=\"color: #00af00; text-decoration-color: #00af00\">120</span>, <span style=\"color: #00af00; text-decoration-color: #00af00\">128</span>)  │      <span style=\"color: #00af00; text-decoration-color: #00af00\">1,920</span> │ layer_normalizat… │\n",
       "├─────────────────────┼───────────────────┼────────────┼───────────────────┤\n",
       "│ dropout_12          │ (<span style=\"color: #00d7ff; text-decoration-color: #00d7ff\">None</span>, <span style=\"color: #00af00; text-decoration-color: #00af00\">120</span>, <span style=\"color: #00af00; text-decoration-color: #00af00\">128</span>)  │          <span style=\"color: #00af00; text-decoration-color: #00af00\">0</span> │ conv1d_6[<span style=\"color: #00af00; text-decoration-color: #00af00\">0</span>][<span style=\"color: #00af00; text-decoration-color: #00af00\">0</span>]    │\n",
       "│ (<span style=\"color: #0087ff; text-decoration-color: #0087ff\">Dropout</span>)           │                   │            │                   │\n",
       "├─────────────────────┼───────────────────┼────────────┼───────────────────┤\n",
       "│ conv1d_7 (<span style=\"color: #0087ff; text-decoration-color: #0087ff\">Conv1D</span>)   │ (<span style=\"color: #00d7ff; text-decoration-color: #00d7ff\">None</span>, <span style=\"color: #00af00; text-decoration-color: #00af00\">120</span>, <span style=\"color: #00af00; text-decoration-color: #00af00\">14</span>)   │      <span style=\"color: #00af00; text-decoration-color: #00af00\">1,806</span> │ dropout_12[<span style=\"color: #00af00; text-decoration-color: #00af00\">0</span>][<span style=\"color: #00af00; text-decoration-color: #00af00\">0</span>]  │\n",
       "├─────────────────────┼───────────────────┼────────────┼───────────────────┤\n",
       "│ add_7 (<span style=\"color: #0087ff; text-decoration-color: #0087ff\">Add</span>)         │ (<span style=\"color: #00d7ff; text-decoration-color: #00d7ff\">None</span>, <span style=\"color: #00af00; text-decoration-color: #00af00\">120</span>, <span style=\"color: #00af00; text-decoration-color: #00af00\">14</span>)   │          <span style=\"color: #00af00; text-decoration-color: #00af00\">0</span> │ layer_normalizat… │\n",
       "│                     │                   │            │ conv1d_7[<span style=\"color: #00af00; text-decoration-color: #00af00\">0</span>][<span style=\"color: #00af00; text-decoration-color: #00af00\">0</span>]    │\n",
       "├─────────────────────┼───────────────────┼────────────┼───────────────────┤\n",
       "│ layer_normalizatio… │ (<span style=\"color: #00d7ff; text-decoration-color: #00d7ff\">None</span>, <span style=\"color: #00af00; text-decoration-color: #00af00\">120</span>, <span style=\"color: #00af00; text-decoration-color: #00af00\">14</span>)   │         <span style=\"color: #00af00; text-decoration-color: #00af00\">28</span> │ add_7[<span style=\"color: #00af00; text-decoration-color: #00af00\">0</span>][<span style=\"color: #00af00; text-decoration-color: #00af00\">0</span>]       │\n",
       "│ (<span style=\"color: #0087ff; text-decoration-color: #0087ff\">LayerNormalizatio…</span> │                   │            │                   │\n",
       "├─────────────────────┼───────────────────┼────────────┼───────────────────┤\n",
       "│ global_average_poo… │ (<span style=\"color: #00d7ff; text-decoration-color: #00d7ff\">None</span>, <span style=\"color: #00af00; text-decoration-color: #00af00\">14</span>)        │          <span style=\"color: #00af00; text-decoration-color: #00af00\">0</span> │ layer_normalizat… │\n",
       "│ (<span style=\"color: #0087ff; text-decoration-color: #0087ff\">GlobalAveragePool…</span> │                   │            │                   │\n",
       "├─────────────────────┼───────────────────┼────────────┼───────────────────┤\n",
       "│ dense_2 (<span style=\"color: #0087ff; text-decoration-color: #0087ff\">Dense</span>)     │ (<span style=\"color: #00d7ff; text-decoration-color: #00d7ff\">None</span>, <span style=\"color: #00af00; text-decoration-color: #00af00\">64</span>)        │        <span style=\"color: #00af00; text-decoration-color: #00af00\">960</span> │ global_average_p… │\n",
       "├─────────────────────┼───────────────────┼────────────┼───────────────────┤\n",
       "│ dropout_13          │ (<span style=\"color: #00d7ff; text-decoration-color: #00d7ff\">None</span>, <span style=\"color: #00af00; text-decoration-color: #00af00\">64</span>)        │          <span style=\"color: #00af00; text-decoration-color: #00af00\">0</span> │ dense_2[<span style=\"color: #00af00; text-decoration-color: #00af00\">0</span>][<span style=\"color: #00af00; text-decoration-color: #00af00\">0</span>]     │\n",
       "│ (<span style=\"color: #0087ff; text-decoration-color: #0087ff\">Dropout</span>)           │                   │            │                   │\n",
       "├─────────────────────┼───────────────────┼────────────┼───────────────────┤\n",
       "│ dense_3 (<span style=\"color: #0087ff; text-decoration-color: #0087ff\">Dense</span>)     │ (<span style=\"color: #00d7ff; text-decoration-color: #00d7ff\">None</span>, <span style=\"color: #00af00; text-decoration-color: #00af00\">1</span>)         │         <span style=\"color: #00af00; text-decoration-color: #00af00\">65</span> │ dropout_13[<span style=\"color: #00af00; text-decoration-color: #00af00\">0</span>][<span style=\"color: #00af00; text-decoration-color: #00af00\">0</span>]  │\n",
       "└─────────────────────┴───────────────────┴────────────┴───────────────────┘\n",
       "</pre>\n"
      ],
      "text/plain": [
       "┏━━━━━━━━━━━━━━━━━━━━━┳━━━━━━━━━━━━━━━━━━━┳━━━━━━━━━━━━┳━━━━━━━━━━━━━━━━━━━┓\n",
       "┃\u001b[1m \u001b[0m\u001b[1mLayer (type)       \u001b[0m\u001b[1m \u001b[0m┃\u001b[1m \u001b[0m\u001b[1mOutput Shape     \u001b[0m\u001b[1m \u001b[0m┃\u001b[1m \u001b[0m\u001b[1m   Param #\u001b[0m\u001b[1m \u001b[0m┃\u001b[1m \u001b[0m\u001b[1mConnected to     \u001b[0m\u001b[1m \u001b[0m┃\n",
       "┡━━━━━━━━━━━━━━━━━━━━━╇━━━━━━━━━━━━━━━━━━━╇━━━━━━━━━━━━╇━━━━━━━━━━━━━━━━━━━┩\n",
       "│ input_layer_1       │ (\u001b[38;5;45mNone\u001b[0m, \u001b[38;5;34m120\u001b[0m, \u001b[38;5;34m14\u001b[0m)   │          \u001b[38;5;34m0\u001b[0m │ -                 │\n",
       "│ (\u001b[38;5;33mInputLayer\u001b[0m)        │                   │            │                   │\n",
       "├─────────────────────┼───────────────────┼────────────┼───────────────────┤\n",
       "│ multi_head_attenti… │ (\u001b[38;5;45mNone\u001b[0m, \u001b[38;5;34m120\u001b[0m, \u001b[38;5;34m14\u001b[0m)   │      \u001b[38;5;34m7,566\u001b[0m │ input_layer_1[\u001b[38;5;34m0\u001b[0m]… │\n",
       "│ (\u001b[38;5;33mMultiHeadAttentio…\u001b[0m │                   │            │ input_layer_1[\u001b[38;5;34m0\u001b[0m]… │\n",
       "├─────────────────────┼───────────────────┼────────────┼───────────────────┤\n",
       "│ dropout_8 (\u001b[38;5;33mDropout\u001b[0m) │ (\u001b[38;5;45mNone\u001b[0m, \u001b[38;5;34m120\u001b[0m, \u001b[38;5;34m14\u001b[0m)   │          \u001b[38;5;34m0\u001b[0m │ multi_head_atten… │\n",
       "├─────────────────────┼───────────────────┼────────────┼───────────────────┤\n",
       "│ add_4 (\u001b[38;5;33mAdd\u001b[0m)         │ (\u001b[38;5;45mNone\u001b[0m, \u001b[38;5;34m120\u001b[0m, \u001b[38;5;34m14\u001b[0m)   │          \u001b[38;5;34m0\u001b[0m │ input_layer_1[\u001b[38;5;34m0\u001b[0m]… │\n",
       "│                     │                   │            │ dropout_8[\u001b[38;5;34m0\u001b[0m][\u001b[38;5;34m0\u001b[0m]   │\n",
       "├─────────────────────┼───────────────────┼────────────┼───────────────────┤\n",
       "│ layer_normalizatio… │ (\u001b[38;5;45mNone\u001b[0m, \u001b[38;5;34m120\u001b[0m, \u001b[38;5;34m14\u001b[0m)   │         \u001b[38;5;34m28\u001b[0m │ add_4[\u001b[38;5;34m0\u001b[0m][\u001b[38;5;34m0\u001b[0m]       │\n",
       "│ (\u001b[38;5;33mLayerNormalizatio…\u001b[0m │                   │            │                   │\n",
       "├─────────────────────┼───────────────────┼────────────┼───────────────────┤\n",
       "│ conv1d_4 (\u001b[38;5;33mConv1D\u001b[0m)   │ (\u001b[38;5;45mNone\u001b[0m, \u001b[38;5;34m120\u001b[0m, \u001b[38;5;34m128\u001b[0m)  │      \u001b[38;5;34m1,920\u001b[0m │ layer_normalizat… │\n",
       "├─────────────────────┼───────────────────┼────────────┼───────────────────┤\n",
       "│ dropout_9 (\u001b[38;5;33mDropout\u001b[0m) │ (\u001b[38;5;45mNone\u001b[0m, \u001b[38;5;34m120\u001b[0m, \u001b[38;5;34m128\u001b[0m)  │          \u001b[38;5;34m0\u001b[0m │ conv1d_4[\u001b[38;5;34m0\u001b[0m][\u001b[38;5;34m0\u001b[0m]    │\n",
       "├─────────────────────┼───────────────────┼────────────┼───────────────────┤\n",
       "│ conv1d_5 (\u001b[38;5;33mConv1D\u001b[0m)   │ (\u001b[38;5;45mNone\u001b[0m, \u001b[38;5;34m120\u001b[0m, \u001b[38;5;34m14\u001b[0m)   │      \u001b[38;5;34m1,806\u001b[0m │ dropout_9[\u001b[38;5;34m0\u001b[0m][\u001b[38;5;34m0\u001b[0m]   │\n",
       "├─────────────────────┼───────────────────┼────────────┼───────────────────┤\n",
       "│ add_5 (\u001b[38;5;33mAdd\u001b[0m)         │ (\u001b[38;5;45mNone\u001b[0m, \u001b[38;5;34m120\u001b[0m, \u001b[38;5;34m14\u001b[0m)   │          \u001b[38;5;34m0\u001b[0m │ layer_normalizat… │\n",
       "│                     │                   │            │ conv1d_5[\u001b[38;5;34m0\u001b[0m][\u001b[38;5;34m0\u001b[0m]    │\n",
       "├─────────────────────┼───────────────────┼────────────┼───────────────────┤\n",
       "│ layer_normalizatio… │ (\u001b[38;5;45mNone\u001b[0m, \u001b[38;5;34m120\u001b[0m, \u001b[38;5;34m14\u001b[0m)   │         \u001b[38;5;34m28\u001b[0m │ add_5[\u001b[38;5;34m0\u001b[0m][\u001b[38;5;34m0\u001b[0m]       │\n",
       "│ (\u001b[38;5;33mLayerNormalizatio…\u001b[0m │                   │            │                   │\n",
       "├─────────────────────┼───────────────────┼────────────┼───────────────────┤\n",
       "│ multi_head_attenti… │ (\u001b[38;5;45mNone\u001b[0m, \u001b[38;5;34m120\u001b[0m, \u001b[38;5;34m14\u001b[0m)   │      \u001b[38;5;34m7,566\u001b[0m │ layer_normalizat… │\n",
       "│ (\u001b[38;5;33mMultiHeadAttentio…\u001b[0m │                   │            │ layer_normalizat… │\n",
       "├─────────────────────┼───────────────────┼────────────┼───────────────────┤\n",
       "│ dropout_11          │ (\u001b[38;5;45mNone\u001b[0m, \u001b[38;5;34m120\u001b[0m, \u001b[38;5;34m14\u001b[0m)   │          \u001b[38;5;34m0\u001b[0m │ multi_head_atten… │\n",
       "│ (\u001b[38;5;33mDropout\u001b[0m)           │                   │            │                   │\n",
       "├─────────────────────┼───────────────────┼────────────┼───────────────────┤\n",
       "│ add_6 (\u001b[38;5;33mAdd\u001b[0m)         │ (\u001b[38;5;45mNone\u001b[0m, \u001b[38;5;34m120\u001b[0m, \u001b[38;5;34m14\u001b[0m)   │          \u001b[38;5;34m0\u001b[0m │ layer_normalizat… │\n",
       "│                     │                   │            │ dropout_11[\u001b[38;5;34m0\u001b[0m][\u001b[38;5;34m0\u001b[0m]  │\n",
       "├─────────────────────┼───────────────────┼────────────┼───────────────────┤\n",
       "│ layer_normalizatio… │ (\u001b[38;5;45mNone\u001b[0m, \u001b[38;5;34m120\u001b[0m, \u001b[38;5;34m14\u001b[0m)   │         \u001b[38;5;34m28\u001b[0m │ add_6[\u001b[38;5;34m0\u001b[0m][\u001b[38;5;34m0\u001b[0m]       │\n",
       "│ (\u001b[38;5;33mLayerNormalizatio…\u001b[0m │                   │            │                   │\n",
       "├─────────────────────┼───────────────────┼────────────┼───────────────────┤\n",
       "│ conv1d_6 (\u001b[38;5;33mConv1D\u001b[0m)   │ (\u001b[38;5;45mNone\u001b[0m, \u001b[38;5;34m120\u001b[0m, \u001b[38;5;34m128\u001b[0m)  │      \u001b[38;5;34m1,920\u001b[0m │ layer_normalizat… │\n",
       "├─────────────────────┼───────────────────┼────────────┼───────────────────┤\n",
       "│ dropout_12          │ (\u001b[38;5;45mNone\u001b[0m, \u001b[38;5;34m120\u001b[0m, \u001b[38;5;34m128\u001b[0m)  │          \u001b[38;5;34m0\u001b[0m │ conv1d_6[\u001b[38;5;34m0\u001b[0m][\u001b[38;5;34m0\u001b[0m]    │\n",
       "│ (\u001b[38;5;33mDropout\u001b[0m)           │                   │            │                   │\n",
       "├─────────────────────┼───────────────────┼────────────┼───────────────────┤\n",
       "│ conv1d_7 (\u001b[38;5;33mConv1D\u001b[0m)   │ (\u001b[38;5;45mNone\u001b[0m, \u001b[38;5;34m120\u001b[0m, \u001b[38;5;34m14\u001b[0m)   │      \u001b[38;5;34m1,806\u001b[0m │ dropout_12[\u001b[38;5;34m0\u001b[0m][\u001b[38;5;34m0\u001b[0m]  │\n",
       "├─────────────────────┼───────────────────┼────────────┼───────────────────┤\n",
       "│ add_7 (\u001b[38;5;33mAdd\u001b[0m)         │ (\u001b[38;5;45mNone\u001b[0m, \u001b[38;5;34m120\u001b[0m, \u001b[38;5;34m14\u001b[0m)   │          \u001b[38;5;34m0\u001b[0m │ layer_normalizat… │\n",
       "│                     │                   │            │ conv1d_7[\u001b[38;5;34m0\u001b[0m][\u001b[38;5;34m0\u001b[0m]    │\n",
       "├─────────────────────┼───────────────────┼────────────┼───────────────────┤\n",
       "│ layer_normalizatio… │ (\u001b[38;5;45mNone\u001b[0m, \u001b[38;5;34m120\u001b[0m, \u001b[38;5;34m14\u001b[0m)   │         \u001b[38;5;34m28\u001b[0m │ add_7[\u001b[38;5;34m0\u001b[0m][\u001b[38;5;34m0\u001b[0m]       │\n",
       "│ (\u001b[38;5;33mLayerNormalizatio…\u001b[0m │                   │            │                   │\n",
       "├─────────────────────┼───────────────────┼────────────┼───────────────────┤\n",
       "│ global_average_poo… │ (\u001b[38;5;45mNone\u001b[0m, \u001b[38;5;34m14\u001b[0m)        │          \u001b[38;5;34m0\u001b[0m │ layer_normalizat… │\n",
       "│ (\u001b[38;5;33mGlobalAveragePool…\u001b[0m │                   │            │                   │\n",
       "├─────────────────────┼───────────────────┼────────────┼───────────────────┤\n",
       "│ dense_2 (\u001b[38;5;33mDense\u001b[0m)     │ (\u001b[38;5;45mNone\u001b[0m, \u001b[38;5;34m64\u001b[0m)        │        \u001b[38;5;34m960\u001b[0m │ global_average_p… │\n",
       "├─────────────────────┼───────────────────┼────────────┼───────────────────┤\n",
       "│ dropout_13          │ (\u001b[38;5;45mNone\u001b[0m, \u001b[38;5;34m64\u001b[0m)        │          \u001b[38;5;34m0\u001b[0m │ dense_2[\u001b[38;5;34m0\u001b[0m][\u001b[38;5;34m0\u001b[0m]     │\n",
       "│ (\u001b[38;5;33mDropout\u001b[0m)           │                   │            │                   │\n",
       "├─────────────────────┼───────────────────┼────────────┼───────────────────┤\n",
       "│ dense_3 (\u001b[38;5;33mDense\u001b[0m)     │ (\u001b[38;5;45mNone\u001b[0m, \u001b[38;5;34m1\u001b[0m)         │         \u001b[38;5;34m65\u001b[0m │ dropout_13[\u001b[38;5;34m0\u001b[0m][\u001b[38;5;34m0\u001b[0m]  │\n",
       "└─────────────────────┴───────────────────┴────────────┴───────────────────┘\n"
      ]
     },
     "metadata": {},
     "output_type": "display_data"
    },
    {
     "data": {
      "text/html": [
       "<pre style=\"white-space:pre;overflow-x:auto;line-height:normal;font-family:Menlo,'DejaVu Sans Mono',consolas,'Courier New',monospace\"><span style=\"font-weight: bold\"> Total params: </span><span style=\"color: #00af00; text-decoration-color: #00af00\">23,721</span> (92.66 KB)\n",
       "</pre>\n"
      ],
      "text/plain": [
       "\u001b[1m Total params: \u001b[0m\u001b[38;5;34m23,721\u001b[0m (92.66 KB)\n"
      ]
     },
     "metadata": {},
     "output_type": "display_data"
    },
    {
     "data": {
      "text/html": [
       "<pre style=\"white-space:pre;overflow-x:auto;line-height:normal;font-family:Menlo,'DejaVu Sans Mono',consolas,'Courier New',monospace\"><span style=\"font-weight: bold\"> Trainable params: </span><span style=\"color: #00af00; text-decoration-color: #00af00\">23,721</span> (92.66 KB)\n",
       "</pre>\n"
      ],
      "text/plain": [
       "\u001b[1m Trainable params: \u001b[0m\u001b[38;5;34m23,721\u001b[0m (92.66 KB)\n"
      ]
     },
     "metadata": {},
     "output_type": "display_data"
    },
    {
     "data": {
      "text/html": [
       "<pre style=\"white-space:pre;overflow-x:auto;line-height:normal;font-family:Menlo,'DejaVu Sans Mono',consolas,'Courier New',monospace\"><span style=\"font-weight: bold\"> Non-trainable params: </span><span style=\"color: #00af00; text-decoration-color: #00af00\">0</span> (0.00 B)\n",
       "</pre>\n"
      ],
      "text/plain": [
       "\u001b[1m Non-trainable params: \u001b[0m\u001b[38;5;34m0\u001b[0m (0.00 B)\n"
      ]
     },
     "metadata": {},
     "output_type": "display_data"
    },
    {
     "name": "stdout",
     "output_type": "stream",
     "text": [
      "Epoch 1/5\n"
     ]
    },
    {
     "name": "stdout",
     "output_type": "stream",
     "text": [
      "\u001b[1m819/819\u001b[0m \u001b[32m━━━━━━━━━━━━━━━━━━━━\u001b[0m\u001b[37m\u001b[0m \u001b[1m341s\u001b[0m 413ms/step - loss: 47.5839 - mae: 5.1240 - val_loss: 22.0491 - val_mae: 3.7499\n",
      "Epoch 2/5\n",
      "\u001b[1m819/819\u001b[0m \u001b[32m━━━━━━━━━━━━━━━━━━━━\u001b[0m\u001b[37m\u001b[0m \u001b[1m333s\u001b[0m 407ms/step - loss: 18.1205 - mae: 3.3803 - val_loss: 24.4873 - val_mae: 3.9708\n",
      "Epoch 3/5\n",
      "\u001b[1m819/819\u001b[0m \u001b[32m━━━━━━━━━━━━━━━━━━━━\u001b[0m\u001b[37m\u001b[0m \u001b[1m332s\u001b[0m 405ms/step - loss: 16.4013 - mae: 3.1959 - val_loss: 26.2801 - val_mae: 4.0175\n",
      "Epoch 4/5\n",
      "\u001b[1m819/819\u001b[0m \u001b[32m━━━━━━━━━━━━━━━━━━━━\u001b[0m\u001b[37m\u001b[0m \u001b[1m332s\u001b[0m 405ms/step - loss: 15.4059 - mae: 3.0845 - val_loss: 24.7445 - val_mae: 3.9513\n",
      "Epoch 5/5\n",
      "\u001b[1m819/819\u001b[0m \u001b[32m━━━━━━━━━━━━━━━━━━━━\u001b[0m\u001b[37m\u001b[0m \u001b[1m332s\u001b[0m 406ms/step - loss: 14.6510 - mae: 2.9989 - val_loss: 26.8000 - val_mae: 4.1070\n",
      "\u001b[1m405/405\u001b[0m \u001b[32m━━━━━━━━━━━━━━━━━━━━\u001b[0m\u001b[37m\u001b[0m \u001b[1m47s\u001b[0m 116ms/step - loss: 24.7671 - mae: 3.9683\n",
      "Test MAE: 3.96\n"
     ]
    }
   ],
   "source": [
    "input_shape = (sequence_length, raw_data.shape[1]) # modifiqué esto para meter en el modelo (pasos en el tiempo, features por paso)\n",
    "\n",
    "model = build_model(\n",
    "    input_shape = input_shape,\n",
    "    head_size=64,\n",
    "    num_heads=2,\n",
    "    ff_dim=128,\n",
    "    num_transformer_blocks=2,\n",
    "    mlp_units=[64],\n",
    "    mlp_dropout=0.1,\n",
    "    dropout=0.1,\n",
    ")\n",
    "\n",
    "model.compile(\n",
    "    loss=\"mse\",\n",
    "    optimizer='rmsprop',\n",
    "    metrics=[\"mae\"],\n",
    ")\n",
    "\n",
    "model.summary()\n",
    "\n",
    "callbacks = [keras.callbacks.ModelCheckpoint(\"jena_lstm.keras\", save_best_only=True)]\n",
    "\n",
    "history = model.fit(\n",
    "          train_dataset,\n",
    "          validation_data=val_dataset,\n",
    "          epochs=5,\n",
    "          callbacks=callbacks,\n",
    ")\n",
    "\n",
    "model = keras.models.load_model(\"jena_lstm.keras\")\n",
    "print(f\"Test MAE: {model.evaluate(test_dataset)[1]:.2f}\")"
   ]
  },
  {
   "cell_type": "code",
   "execution_count": 16,
   "metadata": {},
   "outputs": [
    {
     "data": {
      "image/png": "[encoded data removed]",
      "text/plain": [
       "<Figure size 640x480 with 1 Axes>"
      ]
     },
     "metadata": {},
     "output_type": "display_data"
    }
   ],
   "source": [
    "loss = history.history[\"mae\"]\n",
    "val_loss = history.history[\"val_mae\"]\n",
    "epochs = range(1, len(loss) + 1)\n",
    "plt.figure()\n",
    "plt.plot(epochs, loss, \"bo\", label=\"Training MAE\")\n",
    "plt.plot(epochs, val_loss, \"b\", label=\"Validation MAE\")\n",
    "plt.title(\"Training and validation MAE\")\n",
    "plt.legend()\n",
    "plt.show()"
   ]
  },
  {
   "cell_type": "markdown",
   "metadata": {
    "id": "mWHyUf8UWleh"
   },
   "source": [
    "We managed to reach a validation MAE of about 2.36 degrees and a test MAE of 2.55 degrees approximately. The LSTM-based approach outperforms the common-sense baseline, although the improvement is modest."
   ]
  },
  {
   "cell_type": "markdown",
   "metadata": {
    "id": "O85Dsef0Wlei"
   },
   "source": [
    "## References\n",
    "\n",
    "[1] Chollet, Francois. *Deep learning with Python*. Simon and Schuster, 2021."
   ]
  }
 ],
 "metadata": {
  "accelerator": "TPU",
  "colab": {
   "gpuType": "V28",
   "provenance": [],
   "toc_visible": true
  },
  "kernelspec": {
   "display_name": ".venv",
   "language": "python",
   "name": "python3"
  },
  "language_info": {
   "codemirror_mode": {
    "name": "ipython",
    "version": 3
   },
   "file_extension": ".py",
   "mimetype": "text/x-python",
   "name": "python",
   "nbconvert_exporter": "python",
   "pygments_lexer": "ipython3",
   "version": "3.12.1"
  }
 },
 "nbformat": 4,
 "nbformat_minor": 1
}
